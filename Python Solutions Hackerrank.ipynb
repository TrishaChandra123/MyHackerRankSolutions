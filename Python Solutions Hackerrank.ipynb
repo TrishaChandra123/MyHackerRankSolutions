{
 "cells": [
  {
   "cell_type": "markdown",
   "metadata": {},
   "source": [
    "Q. Python If-Else\n",
    "\n",
    "Given an integer,perform the following conditional actions:\n",
    "\n",
    "If n is odd, print Weird, If n is even and in the inclusive range of  to , print Not Weird, If n is even and in the inclusive range of  to , print Weird, If n is even and greater than , print Not Weird\n",
    "https://www.hackerrank.com/challenges/py-if-else/problem"
   ]
  },
  {
   "cell_type": "code",
   "execution_count": 9,
   "metadata": {},
   "outputs": [
    {
     "name": "stdout",
     "output_type": "stream",
     "text": [
      "10\n",
      "Weird\n"
     ]
    }
   ],
   "source": [
    "if __name__ == '__main__':\n",
    "    n = int(input().strip())\n",
    "\n",
    "if n%2 == 1:\n",
    "    print('Weird')\n",
    "elif (n%2==0) and (2<=n<=5):\n",
    "    print('Not Weird')\n",
    "elif (n%2==0) and (6<=n<=20):\n",
    "    print('Weird')\n",
    "else:\n",
    "    print('Not Weird')"
   ]
  },
  {
   "cell_type": "markdown",
   "metadata": {},
   "source": [
    "Q. Find the Runner-Up Score!\n",
    "Given the participants' score sheet for your University Sports Day, you are required to find the runner-up score. You are given  scores. Store them in a list and find the score of the runner-up.\n",
    "https://www.hackerrank.com/challenges/find-second-maximum-number-in-a-list/problem"
   ]
  },
  {
   "cell_type": "code",
   "execution_count": 11,
   "metadata": {},
   "outputs": [
    {
     "name": "stdout",
     "output_type": "stream",
     "text": [
      "5\n",
      "1 2 3 4 5\n",
      "4\n"
     ]
    }
   ],
   "source": [
    "#Solution 1\n",
    "if __name__ == '__main__':\n",
    "    n = int(input())\n",
    "    arr = map(int, input().split())\n",
    "lst=list()\n",
    "lst2 = list()\n",
    "for i in arr:\n",
    "    lst.append(i)\n",
    "    tmp = sorted(lst,reverse=True)\n",
    "    for s in tmp:\n",
    "        if s not in lst2: \n",
    "            lst2.append(s)\n",
    "            lst2.sort(reverse=True)                 \n",
    "print(lst2[1])"
   ]
  },
  {
   "cell_type": "code",
   "execution_count": 12,
   "metadata": {},
   "outputs": [
    {
     "name": "stdout",
     "output_type": "stream",
     "text": [
      "5\n",
      "1 2 3 4 5\n",
      "4\n"
     ]
    }
   ],
   "source": [
    "#Solution 2\n",
    "if __name__ == '__main__':\n",
    "    n = int(input())\n",
    "    arr = map(int, input().split())\n",
    "newset = set(i for i in arr)\n",
    "lst = (sorted([x for x in newset],reverse=True))[1]\n",
    "print(lst)"
   ]
  },
  {
   "cell_type": "markdown",
   "metadata": {},
   "source": [
    "Q. Nested Lists:\n",
    "Given the names and grades for each student in a class of N students, store them in a nested list and print the name(s) of any student(s) having the second lowest grade.\n",
    "https://www.hackerrank.com/challenges/nested-list/problem"
   ]
  },
  {
   "cell_type": "code",
   "execution_count": null,
   "metadata": {},
   "outputs": [],
   "source": [
    "#Solution 1\n",
    "marksheet = []\n",
    "lst = []\n",
    "di = dict()\n",
    "for _ in range(int(input())):\n",
    "    name = input()\n",
    "    score = float(input())\n",
    "    tmp = (name,score)\n",
    "    marksheet.append(tmp)\n",
    "    marksheet.sort()\n",
    "for name,score in marksheet: \n",
    "    di.setdefault(name, []).append(score) \n",
    "\n",
    "lowscore = None\n",
    "for n,s in sorted(di.items()):\n",
    "    if (lowscore is None or s < lowscore) and s != min(di.values()):\n",
    "        lowscore = s\n",
    "listOfKeys = [key  for (key, value) in di.items() if value == lowscore]\n",
    "for people in listOfKeys:\n",
    "    print(people)\n"
   ]
  },
  {
   "cell_type": "code",
   "execution_count": null,
   "metadata": {},
   "outputs": [],
   "source": [
    "#Solution 2\n",
    "marksheet = []\n",
    "for _ in range(0,int(input())):\n",
    "    marksheet.append([input(), float(input())])\n",
    "\n",
    "second_highest = sorted(list(set([score for name,score in marksheet])))[1]\n",
    "\n",
    "finallist = [key for key,value in sorted(marksheet) if value == second_highest]\n",
    "for name in finallist:\n",
    "    print(name)"
   ]
  },
  {
   "cell_type": "markdown",
   "metadata": {},
   "source": [
    "Q.Find a string\n",
    "In this challenge, the user enters a string and a substring. You have to print the number of times that the substring occurs in the given string. String traversal will take place from left to right, not from right to left.\n",
    "https://www.hackerrank.com/challenges/find-a-string/problem"
   ]
  },
  {
   "cell_type": "code",
   "execution_count": 13,
   "metadata": {},
   "outputs": [
    {
     "name": "stdout",
     "output_type": "stream",
     "text": [
      "abcdcdcd\n",
      "cdc\n",
      "2\n"
     ]
    }
   ],
   "source": [
    "def count_substring(string, sub_string):\n",
    "    count = 0\n",
    "    for i in range(0,len(string)):\n",
    "        if string[i:len(sub_string)+i] == sub_string:\n",
    "            count = count + 1\n",
    "    return count\n",
    "\n",
    "if __name__ == '__main__':\n",
    "    string = input().strip()\n",
    "    sub_string = input().strip()\n",
    "    \n",
    "    count = count_substring(string, sub_string)\n",
    "    print(count)"
   ]
  },
  {
   "cell_type": "markdown",
   "metadata": {},
   "source": [
    "Q. You are given a string S and width W. Your task is to wrap the string into a paragraph of width.\n",
    "https://www.hackerrank.com/challenges/text-wrap/problem"
   ]
  },
  {
   "cell_type": "code",
   "execution_count": 5,
   "metadata": {},
   "outputs": [
    {
     "name": "stdout",
     "output_type": "stream",
     "text": [
      "abcdefh\n",
      "2\n",
      "ab\n",
      "cd\n",
      "ef\n",
      "h\n"
     ]
    }
   ],
   "source": [
    "def wrap(string, max_width):\n",
    "    word = \"\\n\".join(string[x:x+max_width] for x in range(len(string)) if x%max_width==0)\n",
    "    return word\n",
    "\n",
    "if __name__ == '__main__':\n",
    "    string, max_width = input(), int(input())\n",
    "    result = wrap(string, max_width)\n",
    "    print(result)"
   ]
  },
  {
   "cell_type": "markdown",
   "metadata": {},
   "source": [
    "Q. Finding the percentage\n",
    "The provided code stub will read in a dictionary containing key/value pairs of name:[marks] for a list of students. Print the average of the marks array for the student name provided, showing 2 places after the decimal.https://www.hackerrank.com/challenges/finding-the-percentage/problem"
   ]
  },
  {
   "cell_type": "code",
   "execution_count": null,
   "metadata": {},
   "outputs": [],
   "source": [
    "if __name__ == '__main__':\n",
    "    n = int(input())\n",
    "    student_marks = {}\n",
    "    for _ in range(n):\n",
    "        name, *line = input().split()\n",
    "        scores = list(map(float, line))\n",
    "        student_marks[name] = scores\n",
    "    query_name = input()\n",
    "\n",
    "\n",
    "for name,score in student_marks.items():\n",
    "    if name == query_name:\n",
    "        avg = round(sum(score),2)/len(score)\n",
    "avg = '{:.2f}'.format(avg)\n",
    "print(avg)"
   ]
  },
  {
   "cell_type": "markdown",
   "metadata": {},
   "source": [
    "Q. sWAP cASE\n",
    "You are given a string and your task is to swap cases. In other words, convert all lowercase letters to uppercase letters and vice versa. https://www.hackerrank.com/challenges/swap-case/problem"
   ]
  },
  {
   "cell_type": "code",
   "execution_count": 14,
   "metadata": {},
   "outputs": [
    {
     "name": "stdout",
     "output_type": "stream",
     "text": [
      "TrishacHandra\n",
      "tRISHAChANDRA\n"
     ]
    }
   ],
   "source": [
    "def swap_case(s):\n",
    "    result = \"\"\n",
    "    for l in s:\n",
    "        if l == l.lower():\n",
    "            result = result + l.upper()\n",
    "        else:\n",
    "            result = result + l.lower()   \n",
    "    return result\n",
    "\n",
    "if __name__ == '__main__':\n",
    "    s = input()\n",
    "    result = swap_case(s)\n",
    "    print(result)"
   ]
  },
  {
   "cell_type": "markdown",
   "metadata": {},
   "source": [
    "Q. What's Your Name?\n",
    "You are given the firstname and lastname of a person on two different lines. Your task is to read them and print the following: \"Hello firstname lastname! You just delved into python.\"\n",
    "https://www.hackerrank.com/challenges/whats-your-name/problem "
   ]
  },
  {
   "cell_type": "code",
   "execution_count": 15,
   "metadata": {},
   "outputs": [
    {
     "name": "stdout",
     "output_type": "stream",
     "text": [
      "trisha chandra\n",
      "sinha\n",
      "Hello trisha chandra sinha! You just delved into python.\n"
     ]
    }
   ],
   "source": [
    "def print_full_name(a, b):\n",
    "    lst = []\n",
    "    lst.append(a)\n",
    "    lst.append(b)\n",
    "    final = \" \".join(lst)\n",
    "    print(\"Hello \"+ final + \"!\" + \" You just delved into python.\")\n",
    "\n",
    "if __name__ == '__main__':\n",
    "    first_name = input()\n",
    "    last_name = input()\n",
    "    print_full_name(first_name, last_name)\n",
    "\n"
   ]
  },
  {
   "cell_type": "markdown",
   "metadata": {},
   "source": [
    "Q. Mutations:\n",
    "We have seen that lists are mutable (they can be changed), and tuples are immutable (they cannot be changed). Let's try to understand this with an example. You are given an immutable string, and you want to make changes to it.https://www.hackerrank.com/challenges/python-mutations/problem"
   ]
  },
  {
   "cell_type": "code",
   "execution_count": null,
   "metadata": {},
   "outputs": [],
   "source": [
    "def mutate_string(string, position, character):\n",
    "    final = string[:position] + character + string[position+1:]\n",
    "    return final\n",
    "\n",
    "if __name__ == '__main__':\n",
    "    s = input()\n",
    "    i, c = input().split()\n",
    "    s_new = mutate_string(s, int(i), c)\n",
    "    print(s_new)"
   ]
  },
  {
   "cell_type": "markdown",
   "metadata": {},
   "source": [
    "Q. Capitalize:\n",
    "You are asked to ensure that the first and last names of people begin with a capital letter in their passports. For example, alison heck should be capitalised correctly as Alison Heck.\n",
    "https://www.hackerrank.com/challenges/capitalize/problem"
   ]
  },
  {
   "cell_type": "code",
   "execution_count": null,
   "metadata": {},
   "outputs": [],
   "source": [
    "def solve(s):\n",
    "    for x in s[:].split():\n",
    "        s= s.replace(x,x.capitalize())\n",
    "    return s\n",
    "    \n",
    "if __name__ == '__main__':\n",
    "    fptr = open(os.environ['OUTPUT_PATH'], 'w')\n",
    "    s = input()\n",
    "    result = solve(s)\n",
    "    fptr.write(result + '\\n')\n",
    "    fptr.close()\n"
   ]
  },
  {
   "cell_type": "markdown",
   "metadata": {},
   "source": [
    "Q. itertools.product()\n",
    "This tool computes the cartesian product of input iterables.\n",
    "It is equivalent to nested for-loops.\n",
    "For example, product(A, B) returns the same as ((x,y) for x in A for y in B).\n",
    "You are given a two lists A and B. Your task is to compute their cartesian product AXB.\n",
    "https://www.hackerrank.com/challenges/itertools-product/problem"
   ]
  },
  {
   "cell_type": "code",
   "execution_count": null,
   "metadata": {},
   "outputs": [],
   "source": [
    "from itertools import product\n",
    "a = list(map(int,input().split()))\n",
    "b = list(map(int,input().split()))\n",
    "print(*product(a,b))"
   ]
  },
  {
   "cell_type": "markdown",
   "metadata": {},
   "source": [
    "Q. collections.Counter()\n",
    "Raghu is a shoe shop owner. His shop has X number of shoes. He has a list containing the size of each shoe he has in his shop. There are N number of customers who are willing to pay xi amount of money only if they get the shoe of their desired size. Your task is to compute how much money Raghu earned.\n",
    "https://www.hackerrank.com/challenges/collections-counter/problem"
   ]
  },
  {
   "cell_type": "code",
   "execution_count": null,
   "metadata": {},
   "outputs": [],
   "source": [
    "# Enter your code here. Read input from STDIN. Print output to STDOUT\n",
    "from collections import Counter\n",
    "#import collections\n",
    "##not my solution\n",
    "numShoes = int(input())\n",
    "shoes = Counter(map(int, input().split()))\n",
    "numCust = int(input())\n",
    "\n",
    "income = 0\n",
    "\n",
    "for i in range(numCust):\n",
    "    size, price = map(int, input().split())\n",
    "    if shoes[size]: \n",
    "        income += price\n",
    "        shoes[size] -= 1\n",
    "\n",
    "print(income)"
   ]
  },
  {
   "cell_type": "markdown",
   "metadata": {},
   "source": [
    "Q. itertools.permutations()\n",
    "You are given a string S.\n",
    "Your task is to print all possible permutations of size k of the string in lexicographic sorted order.\n",
    "https://www.hackerrank.com/challenges/itertools-permutations/problem"
   ]
  },
  {
   "cell_type": "code",
   "execution_count": null,
   "metadata": {},
   "outputs": [],
   "source": [
    "from itertools import permutations\n",
    "word, num = input().split()\n",
    "perm=list(permutations(sorted(word),int(num)))\n",
    "for p in perm:\n",
    "    x=''.join(p)\n",
    "    print(x)"
   ]
  },
  {
   "cell_type": "markdown",
   "metadata": {},
   "source": [
    "Q. Introduction to Sets\n",
    "Ms. Gabriel Williams is a botany professor at District College. One day, she asked her student Mickey to compute the average of all the plants with distinct heights in her greenhouse.\n",
    "Formula used: sum of distinct height/total number of distinct height\n",
    "https://www.hackerrank.com/challenges/py-introduction-to-sets/problem"
   ]
  },
  {
   "cell_type": "code",
   "execution_count": null,
   "metadata": {},
   "outputs": [],
   "source": [
    "def average(array):\n",
    "    distitems = len(list(set(arr)))\n",
    "    distarray = list(set(arr))\n",
    "    tot = 0\n",
    "    for i in distarray:\n",
    "        tot = i + tot\n",
    "    avg = tot/distitems\n",
    "    return avg"
   ]
  },
  {
   "cell_type": "markdown",
   "metadata": {},
   "source": [
    "Q. DefaultDict Tutorial\n",
    "In this challenge, you will be given 2 integers, n and m. There are n words, which might repeat, in word group A. There are m words belonging to word group B. For each m words, check whether the word has appeared in group A or not. Print the indices of each occurrence of m in group A. If it does not appear, print -1.\n",
    "https://www.hackerrank.com/challenges/defaultdict-tutorial/problem"
   ]
  },
  {
   "cell_type": "code",
   "execution_count": null,
   "metadata": {},
   "outputs": [],
   "source": [
    "from collections import defaultdict\n",
    "n,m = map(int,input().split())\n",
    "d = defaultdict(list)\n",
    "for i in range(0,n):\n",
    "    d[input()].append(i+1)\n",
    "\n",
    "lst = []\n",
    "for x in range(0,m):\n",
    "    lst = lst + [input()]\n",
    "\n",
    "for l in lst:\n",
    "    if l in d:\n",
    "        print(*d[l])\n",
    "    else: \n",
    "        print(-1)"
   ]
  },
  {
   "cell_type": "markdown",
   "metadata": {},
   "source": [
    "Q. Calendar Module\n",
    "You are given a date. Your task is to find what the day is on that date.\n",
    "https://www.hackerrank.com/challenges/calendar-module/problem"
   ]
  },
  {
   "cell_type": "code",
   "execution_count": null,
   "metadata": {},
   "outputs": [],
   "source": [
    "# Enter your code here. Read input from STDIN. Print output to STDOUT\n",
    "import calendar\n",
    "date = input().split()\n",
    "y = int(date[2])\n",
    "m = int(date[0])\n",
    "d = int(date[1])\n",
    "\n",
    "day = calendar.weekday(y,m,d)\n",
    "\n",
    "if day==0:\n",
    "    print('MONDAY')\n",
    "elif day==1:\n",
    "    print('TUESDAY')\n",
    "elif day==2:\n",
    "    print('WEDNESDAY')\n",
    "elif day==3:\n",
    "    print('THURSDAY')\n",
    "elif day==4:\n",
    "    print('FRIDAY')\n",
    "elif day==5:\n",
    "    print('SATURDAY')\n",
    "else:\n",
    "    print('SUNDAY')"
   ]
  },
  {
   "cell_type": "markdown",
   "metadata": {},
   "source": [
    "Q. Exceptions\n",
    "https://www.hackerrank.com/challenges/exceptions/problem"
   ]
  },
  {
   "cell_type": "code",
   "execution_count": null,
   "metadata": {},
   "outputs": [],
   "source": [
    "num = input()\n",
    "for i in range(int(num)):\n",
    "    try:\n",
    "        a,b = map(int,input().split())\n",
    "        print(a//b)\n",
    "    except Exception as e:\n",
    "        print(\"Error Code:\",e)"
   ]
  },
  {
   "cell_type": "markdown",
   "metadata": {},
   "source": [
    "Q. Collections.namedtuple()\n",
    "https://www.hackerrank.com/challenges/py-collections-namedtuple/problem"
   ]
  },
  {
   "cell_type": "code",
   "execution_count": null,
   "metadata": {},
   "outputs": [],
   "source": [
    "from collections import namedtuple\n",
    "n = int(input())\n",
    "fields = input().split()\n",
    "s=0\n",
    "for i in range(n):\n",
    "    students = namedtuple('student', fields)\n",
    "    field1,field2,field3,field4 = input().split()\n",
    "    student = students(field1,field2,field3,field4)\n",
    "    s = s + int(student.MARKS)\n",
    "avg = s/n\n",
    "print('{:.2f}'.format(avg))"
   ]
  },
  {
   "cell_type": "markdown",
   "metadata": {},
   "source": [
    "Q. Collections.OrderedDict()\n",
    "https://www.hackerrank.com/challenges/py-collections-ordereddict/problem"
   ]
  },
  {
   "cell_type": "code",
   "execution_count": null,
   "metadata": {},
   "outputs": [],
   "source": [
    "from collections import OrderedDict\n",
    "ordered_dictionary = OrderedDict()\n",
    "num = int(input())\n",
    "for i in range(num):\n",
    "    items,space,price = input().rpartition(' ')\n",
    "    ordered_dictionary[items] = ordered_dictionary.get(items,0) + int(price)\n",
    "for k,v in ordered_dictionary.items():\n",
    "    print(k,v)"
   ]
  },
  {
   "cell_type": "markdown",
   "metadata": {},
   "source": [
    "Q. itertools.combinations()\n",
    "https://www.hackerrank.com/challenges/itertools-combinations/problem"
   ]
  },
  {
   "cell_type": "code",
   "execution_count": 16,
   "metadata": {},
   "outputs": [
    {
     "name": "stdout",
     "output_type": "stream",
     "text": [
      "HACK 2\n",
      "A\n",
      "C\n",
      "H\n",
      "K\n",
      "AC\n",
      "AH\n",
      "AK\n",
      "CH\n",
      "CK\n",
      "HK\n"
     ]
    }
   ],
   "source": [
    "import itertools\n",
    "from itertools import combinations\n",
    "\n",
    "word, num = input().split()\n",
    "lst = []\n",
    "for i in range(1,int(num)+1):\n",
    "    lst.append(list(combinations(sorted(word),int(i))))\n",
    "lst2=list(itertools.chain(*lst))\n",
    "for x in lst2:\n",
    "    print(''.join(x))"
   ]
  },
  {
   "cell_type": "markdown",
   "metadata": {},
   "source": [
    "Q. Symmetric Difference\n",
    "https://www.hackerrank.com/challenges/symmetric-difference/problem"
   ]
  },
  {
   "cell_type": "code",
   "execution_count": null,
   "metadata": {},
   "outputs": [],
   "source": [
    "m = int(input())\n",
    "numbersm = set(map(int, input().split()))\n",
    "\n",
    "n = int(input())\n",
    "numbersn = set(map(int, input().split()))\n",
    "\n",
    "dif1 = numbersm.difference(numbersn) \n",
    "dif2 = numbersn.difference(numbersm)\n",
    "symdif = list(dif1.union(dif2))\n",
    "for i in sorted(symdif):\n",
    "    print(i)"
   ]
  },
  {
   "cell_type": "markdown",
   "metadata": {},
   "source": [
    "Q. Set .add()\n",
    "Output the total number of distinct country stamps on a single line.\n",
    "https://www.hackerrank.com/challenges/py-set-add/problem"
   ]
  },
  {
   "cell_type": "code",
   "execution_count": null,
   "metadata": {},
   "outputs": [],
   "source": [
    "s = set()\n",
    "for i in range(int(input())):\n",
    "    s.add(input())\n",
    "print(len(s))\n"
   ]
  },
  {
   "cell_type": "markdown",
   "metadata": {},
   "source": [
    "Q. itertools.combinations_with_replacement()\n",
    "Print the combinations with their replacements of string S on separate lines.\n",
    "https://www.hackerrank.com/challenges/itertools-combinations-with-replacement/problem"
   ]
  },
  {
   "cell_type": "code",
   "execution_count": null,
   "metadata": {},
   "outputs": [],
   "source": [
    "from itertools import combinations_with_replacement\n",
    "word, num = input().split()\n",
    "comb = list(combinations_with_replacement(sorted(word),int(num)))\n",
    "for c in comb:\n",
    "    print(''.join(c))"
   ]
  },
  {
   "cell_type": "markdown",
   "metadata": {},
   "source": [
    "Q. Set .discard(), .remove() & .pop()\n",
    "https://www.hackerrank.com/challenges/py-set-discard-remove-pop/problem"
   ]
  },
  {
   "cell_type": "code",
   "execution_count": null,
   "metadata": {},
   "outputs": [],
   "source": [
    "#Solution 1\n",
    "n = int(input())\n",
    "s = set(map(int, input().split()))\n",
    "n1= int(input())\n",
    "for i in range(n1):\n",
    "    command = input().split()\n",
    "    if command[0] == \"pop\":\n",
    "        s.pop()\n",
    "    elif command[0] == \"remove\":\n",
    "        s.remove(int(command[1]))\n",
    "    elif command[0] == \"discard\":\n",
    "        s.discard(int(command[1]))\n",
    "print(sum(s))\n"
   ]
  },
  {
   "cell_type": "code",
   "execution_count": null,
   "metadata": {},
   "outputs": [],
   "source": [
    "#Solution 2\n",
    "n = int(input())\n",
    "s = set(map(int, input().split()))\n",
    "m = int(input())\n",
    "for  i in range(m):\n",
    "    attr, *kw = input().split()\n",
    "    if kw:\n",
    "        getattr(s,attr)(int(*kw))\n",
    "    else:\n",
    "        getattr(s,attr)()\n",
    "print(sum(s))"
   ]
  },
  {
   "cell_type": "markdown",
   "metadata": {},
   "source": [
    "Q. Collections.deque()\n",
    "https://www.hackerrank.com/challenges/py-collections-deque/problem"
   ]
  },
  {
   "cell_type": "code",
   "execution_count": null,
   "metadata": {},
   "outputs": [],
   "source": [
    "from collections import deque\n",
    "n = int(input())\n",
    "d = deque()\n",
    "\n",
    "for i in range(n):\n",
    "    attr, *kw = input().split() #*kw means that kw will take the any values that can't be assigned to attr, this also means that kw can be empty\n",
    "    if kw:\n",
    "        getattr(d,attr)(int(*kw))\n",
    "    else:\n",
    "        getattr(d,attr)()\n",
    "print(*d)"
   ]
  },
  {
   "cell_type": "markdown",
   "metadata": {},
   "source": [
    "Q. Set .union() Operation\n",
    "https://www.hackerrank.com/challenges/py-set-union/problem"
   ]
  },
  {
   "cell_type": "code",
   "execution_count": null,
   "metadata": {},
   "outputs": [],
   "source": [
    "numofeng = int(input())\n",
    "engrolls = set(map(int,input().split()))\n",
    "numoffr = int(input())\n",
    "frrolls = set(map(int,input().split()))\n",
    "\n",
    "common = engrolls.union(frrolls)\n",
    "print(len(common))"
   ]
  },
  {
   "cell_type": "markdown",
   "metadata": {},
   "source": [
    "Q. Set .intersection() Operation\n",
    "https://www.hackerrank.com/challenges/py-set-intersection-operation/problem"
   ]
  },
  {
   "cell_type": "code",
   "execution_count": null,
   "metadata": {},
   "outputs": [],
   "source": [
    "numofeng = int(input())\n",
    "engrolls = set(map(int,input().split()))\n",
    "numoffr = int(input())\n",
    "frrolls = set(map(int,input().split()))\n",
    "print(len(engrolls.intersection(frrolls)))"
   ]
  },
  {
   "cell_type": "markdown",
   "metadata": {},
   "source": [
    "Q. Set .symmetric_difference() Operation\n",
    "https://www.hackerrank.com/challenges/py-set-symmetric-difference-operation/problem"
   ]
  },
  {
   "cell_type": "code",
   "execution_count": null,
   "metadata": {},
   "outputs": [],
   "source": [
    "numofeng = int(input())\n",
    "engrolls = set(map(int,input().split()))\n",
    "numoffr = int(input())\n",
    "frrolls = set(map(int,input().split()))\n",
    "\n",
    "uncommon = engrolls.symmetric_difference(frrolls)\n",
    "print(len(uncommon))"
   ]
  },
  {
   "cell_type": "markdown",
   "metadata": {},
   "source": [
    "Q. The Captain's Room\n",
    "https://www.hackerrank.com/challenges/py-the-captains-room/problem"
   ]
  },
  {
   "cell_type": "code",
   "execution_count": 17,
   "metadata": {},
   "outputs": [
    {
     "name": "stdout",
     "output_type": "stream",
     "text": [
      "3\n",
      "1 2 3 4 1 2 4 1 4 2\n",
      "3\n"
     ]
    }
   ],
   "source": [
    "import collections\n",
    "groups = int(input())\n",
    "rooms = collections.Counter(list(map(int,input().split())))\n",
    "\n",
    "for k,v in rooms.items():\n",
    "    if v == 1:\n",
    "        print(k)"
   ]
  },
  {
   "cell_type": "code",
   "execution_count": 1,
   "metadata": {},
   "outputs": [],
   "source": [
    "#test"
   ]
  },
  {
   "cell_type": "code",
   "execution_count": 2,
   "metadata": {},
   "outputs": [],
   "source": [
    "#test2"
   ]
  },
  {
   "cell_type": "code",
   "execution_count": null,
   "metadata": {},
   "outputs": [],
   "source": []
  }
 ],
 "metadata": {
  "kernelspec": {
   "display_name": "Python 3",
   "language": "python",
   "name": "python3"
  },
  "language_info": {
   "codemirror_mode": {
    "name": "ipython",
    "version": 3
   },
   "file_extension": ".py",
   "mimetype": "text/x-python",
   "name": "python",
   "nbconvert_exporter": "python",
   "pygments_lexer": "ipython3",
   "version": "3.8.5"
  }
 },
 "nbformat": 4,
 "nbformat_minor": 4
}
